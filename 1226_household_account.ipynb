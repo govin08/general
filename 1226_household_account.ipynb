{
 "cells": [
  {
   "cell_type": "code",
   "execution_count": 24,
   "metadata": {},
   "outputs": [
    {
     "data": {
      "text/plain": [
       "체크카드         2515478\n",
       "상담            900000\n",
       "KT            321050\n",
       "관리비           304070\n",
       "등록금수납         300000\n",
       "카카오페이         255129\n",
       "신협상환          200600\n",
       "우수관공사         165000\n",
       "재산세           161000\n",
       "창3입주자대표회의     160000\n",
       "지마켓           158400\n",
       "대출결산이자         66413\n",
       "현대해상           56690\n",
       "이모책            11700\n",
       "불명             10000\n",
       "수도세             7910\n",
       "붕어빵             4500\n",
       "호떡              4000\n",
       "양파              2000\n",
       "dtype: int64"
      ]
     },
     "execution_count": 24,
     "metadata": {},
     "output_type": "execute_result"
    }
   ],
   "source": [
    "import pandas as pd\n",
    "import matplotlib.pyplot as plt\n",
    "plt.rcParams['font.family'] = 'Malgun Gothic'\n",
    "df = pd.read_csv(\"1226.csv\", encoding=\"utf-8-sig\")\n",
    "비고들 = df.비고.unique()\n",
    "지출합계 = {}\n",
    "for 비고 in 비고들:\n",
    "    지출합계[비고] = df[df.비고==비고].지출금액.sum()\n",
    "series = pd.Series(지출합계).sort_values(ascending=False)\n",
    "# plt.hist(pd.Series(지출합계).sort_values(ascending=False))\n",
    "# plt.show()\n",
    "series"
   ]
  }
 ],
 "metadata": {
  "kernelspec": {
   "display_name": "rts",
   "language": "python",
   "name": "python3"
  },
  "language_info": {
   "codemirror_mode": {
    "name": "ipython",
    "version": 3
   },
   "file_extension": ".py",
   "mimetype": "text/x-python",
   "name": "python",
   "nbconvert_exporter": "python",
   "pygments_lexer": "ipython3",
   "version": "3.8.10"
  }
 },
 "nbformat": 4,
 "nbformat_minor": 2
}

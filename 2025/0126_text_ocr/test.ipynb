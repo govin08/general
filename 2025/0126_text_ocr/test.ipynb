{
 "cells": [
  {
   "cell_type": "code",
   "execution_count": null,
   "metadata": {},
   "outputs": [
    {
     "data": {
      "image/jpeg": "[encoded data removed]",
      "image/png": "[encoded data removed]",
      "text/plain": [
       "<PIL.Image.Image image mode=RGB size=33x18>"
      ]
     },
     "metadata": {},
     "output_type": "display_data"
    },
    {
     "data": {
      "image/jpeg": "[encoded data removed]",
      "image/png": "[encoded data removed]",
      "text/plain": [
       "<PIL.Image.Image image mode=RGB size=33x18>"
      ]
     },
     "metadata": {},
     "output_type": "display_data"
    },
    {
     "name": "stdout",
     "output_type": "stream",
     "text": [
      "(542, 477) (542, 477)\n",
      "win rate :  53.189 %\n",
      "difference : 65\n"
     ]
    }
   ],
   "source": [
    "from PIL import ImageGrab\n",
    "import pytesseract, csv\n",
    "from datetime import datetime as DT\n",
    "\n",
    "# 최신 승수와 패수 불러오기\n",
    "with open('log.csv', 'r') as csvfile:\n",
    "    reader = csv.reader(csvfile)\n",
    "    last_line = list(reader)[-1]\n",
    "    prev_n_win = int(last_line[3])\n",
    "    prev_n_los = int(last_line[4])\n",
    "\n",
    "# OCR 위치 지정\n",
    "top, bottom = 130, 148\n",
    "left_win, right_win = 359, 392\n",
    "left_los, right_los = 395, 428\n",
    "win_capture = ImageGrab.grab(bbox=(left_win, top, right_win, bottom))\n",
    "los_capture = ImageGrab.grab(bbox=(left_los, top, right_los, bottom))\n",
    "# 이미지 보이기\n",
    "display(win_capture)\n",
    "display(los_capture)\n",
    "# OCR을 사용하여 승수, 패수를 문자열 형태로 변환\n",
    "n_win = pytesseract.image_to_string(win_capture) # the number of wins\n",
    "n_los = pytesseract.image_to_string(los_capture) # the number of losses\n",
    "# 승수, 패수 후처리\n",
    "n_win = n_win.strip().replace('.', '').replace('-', '')\n",
    "n_los = n_los.strip().replace('.', '').replace('-', '')\n",
    "n_win, n_los = int(n_win), int(n_los)\n",
    "# 승률, 승패차이, 현재시각\n",
    "win_rate = round(n_win / (n_win + n_los) * 100, 3)\n",
    "difference = n_win - n_los\n",
    "timestamp = DT.now().strftime('%Y_%m_%d_%H%M')\n",
    "# 로그파일 업데이트\n",
    "with open('log.csv', 'a', newline='') as csvfile:\n",
    "    writer = csv.writer(csvfile)\n",
    "    if (prev_n_win, prev_n_los) != (n_win, n_los):\n",
    "        writer.writerow([timestamp, win_rate, difference, n_win, n_los])\n",
    "\n",
    "print(\"win rate : \", win_rate, \"%\")\n",
    "print(\"difference :\", difference)\n",
    "# n_los"
   ]
  }
 ],
 "metadata": {
  "kernelspec": {
   "display_name": "env_general",
   "language": "python",
   "name": "env_general"
  },
  "language_info": {
   "codemirror_mode": {
    "name": "ipython",
    "version": 3
   },
   "file_extension": ".py",
   "mimetype": "text/x-python",
   "name": "python",
   "nbconvert_exporter": "python",
   "pygments_lexer": "ipython3",
   "version": "3.12.0"
  }
 },
 "nbformat": 4,
 "nbformat_minor": 2
}

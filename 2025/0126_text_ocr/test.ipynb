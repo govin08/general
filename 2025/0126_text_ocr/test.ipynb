{
 "cells": [
  {
   "cell_type": "code",
   "execution_count": 36,
   "metadata": {},
   "outputs": [],
   "source": [
    "from PIL import ImageGrab\n",
    "import pytesseract, csv\n",
    "from datetime import datetime as DT\n",
    "from itertools import product\n",
    "from collections import Counter"
   ]
  },
  {
   "cell_type": "code",
   "execution_count": 12,
   "metadata": {},
   "outputs": [],
   "source": [
    "def load_log():\n",
    "    # 최신 승수와 패수 불러오기\n",
    "    with open('log.csv', 'r') as csvfile:\n",
    "        reader = csv.reader(csvfile)\n",
    "        last_line = list(reader)[-1]\n",
    "        prev_n_win = int(last_line[3])\n",
    "        prev_n_los = int(last_line[4])\n",
    "    return prev_n_win, prev_n_los"
   ]
  },
  {
   "cell_type": "code",
   "execution_count": 31,
   "metadata": {},
   "outputs": [],
   "source": [
    "def read_digit(lef, top, rig, bot, Display=False):\n",
    "    # 이미지 캡쳐\n",
    "    capture = ImageGrab.grab(bbox=(lef, top, rig, bot))\n",
    "    # 이미지 보이기\n",
    "    if Display:\n",
    "        display(capture)\n",
    "    num = pytesseract.image_to_string( # the number of wins / losses\n",
    "        capture,\n",
    "        config='-c tessedit_char_whitelist=0123456789'\n",
    "        ).strip()\n",
    "    return int(num)"
   ]
  },
  {
   "cell_type": "code",
   "execution_count": null,
   "metadata": {},
   "outputs": [],
   "source": [
    "top, bot = 131, 147\n",
    "lef, rig = 359, 392\n",
    "sep = 1\n",
    "m = 131\n",
    "\n",
    "lefs = range(lef - sep, lef + sep + 1)\n",
    "tops = range(top - sep, top + sep + 1)\n",
    "rigs = range(rig - sep, rig + sep + 1)\n",
    "bots = range(bot - sep, bot + sep + 1)\n",
    "\n",
    "locs = list(product(lefs, tops, rigs, bots))\n",
    "\n",
    "nums = []\n",
    "for (lef, top, rig, bot) in locs:\n",
    "    num = read_digit(lef, top, rig, bot, Display=False)\n",
    "    # print(lef, top, rig, bot, num)\n",
    "    nums.append(num)\n",
    "counts = Counter(nums)\n",
    "freq_num, frequency = counts.most_common(1)[0]\n",
    "print(f\"OCR 결과 : {freq_num}, 빈도 : {frequency} / {(2 * sep+1)**4}\")\n"
   ]
  },
  {
   "cell_type": "code",
   "execution_count": null,
   "metadata": {},
   "outputs": [
    {
     "name": "stdout",
     "output_type": "stream",
     "text": [
      "OCR 결과 : 547, 빈도 : 54 / 81\n",
      "547 54\n"
     ]
    }
   ],
   "source": [
    "top, bot = 131, 147\n",
    "lef, rig = 359, 392\n",
    "sep = 1\n",
    "m = 131\n",
    "\n",
    "lefs = range(lef - sep, lef + sep + 1)\n",
    "tops = range(top - sep, top + sep + 1)\n",
    "rigs = range(rig - sep, rig + sep + 1)\n",
    "bots = range(bot - sep, bot + sep + 1)\n",
    "\n",
    "locs = list(product(lefs, tops, rigs, bots))\n",
    "\n",
    "nums = []\n",
    "for (lef, top, rig, bot) in locs:\n",
    "    num = read_digit(lef, top, rig, bot, Display=False)\n",
    "    # print(lef, top, rig, bot, num)\n",
    "    nums.append(num)\n",
    "counts = Counter(nums)\n",
    "freq_num, frequency = counts.most_common(1)[0]\n",
    "print(f\"OCR 결과 : {freq_num}, 빈도 : {frequency} / {(2 * sep+1)**4}\")\n"
   ]
  },
  {
   "cell_type": "code",
   "execution_count": 41,
   "metadata": {},
   "outputs": [
    {
     "data": {
      "text/plain": [
       "(547, 54)"
      ]
     },
     "execution_count": 41,
     "metadata": {},
     "output_type": "execute_result"
    }
   ],
   "source": [
    "counts = Counter(nums)\n",
    "freq_num, frequency = counts.most_common(1)[0]"
   ]
  },
  {
   "cell_type": "code",
   "execution_count": null,
   "metadata": {},
   "outputs": [],
   "source": [
    "lef_win, rig_win = 359, 392\n",
    "lef_los, rig_los = 395, 428\n"
   ]
  },
  {
   "cell_type": "code",
   "execution_count": null,
   "metadata": {},
   "outputs": [
    {
     "name": "stdout",
     "output_type": "stream",
     "text": [
      "547 484\n"
     ]
    }
   ],
   "source": [
    "def main():\n",
    "    pre_n_win, pre_n_los = load_log()\n",
    "    top, bot = 131, 147\n",
    "    lef_win, rig_win = 359, 392\n",
    "    lef_los, rig_los = 395, 428\n",
    "    n_win = read_digit(lef_win, top, rig_win, bot)\n",
    "    n_los = read_digit(lef_los, top, rig_los, bot)\n",
    "    print(n_win, n_los)\n",
    "main()"
   ]
  },
  {
   "cell_type": "code",
   "execution_count": null,
   "metadata": {},
   "outputs": [
    {
     "data": {
      "image/jpeg": "[encoded data removed]",
      "image/png": "[encoded data removed]",
      "text/plain": [
       "<PIL.Image.Image image mode=RGB size=33x16>"
      ]
     },
     "metadata": {},
     "output_type": "display_data"
    },
    {
     "data": {
      "image/jpeg": "[encoded data removed]",
      "image/png": "[encoded data removed]",
      "text/plain": [
       "<PIL.Image.Image image mode=RGB size=33x16>"
      ]
     },
     "metadata": {},
     "output_type": "display_data"
    },
    {
     "name": "stdout",
     "output_type": "stream",
     "text": [
      "547 483\n",
      "win rate :  53.107 %\n",
      "difference : 64\n"
     ]
    }
   ],
   "source": [
    "from PIL import ImageGrab\n",
    "import pytesseract, csv\n",
    "from datetime import datetime as DT\n",
    "\n",
    "# 최신 승수와 패수 불러오기\n",
    "with open('log.csv', 'r') as csvfile:\n",
    "    reader = csv.reader(csvfile)\n",
    "    last_line = list(reader)[-1]\n",
    "    prev_n_win = int(last_line[3])\n",
    "    prev_n_los = int(last_line[4])\n",
    "\n",
    "# OCR 위치 지정\n",
    "top, bottom = 131, 147\n",
    "left_win, right_win = 359, 392\n",
    "left_los, right_los = 395, 428\n",
    "# 이미지 캡쳐\n",
    "win_capture = ImageGrab.grab(bbox=(left_win, top, right_win, bottom))\n",
    "los_capture = ImageGrab.grab(bbox=(left_los, top, right_los, bottom))\n",
    "# 이미지 보이기\n",
    "display(win_capture)\n",
    "display(los_capture)\n",
    "# OCR을 사용하여 승수, 패수를 문자열 형태로 변환\n",
    "n_win = pytesseract.image_to_string(\n",
    "    win_capture,\n",
    "    config='-c tessedit_char_whitelist=0123456789'\n",
    "    ) # the number of wins\n",
    "n_los = pytesseract.image_to_string(\n",
    "    los_capture,\n",
    "    config='-c tessedit_char_whitelist=0123456789'\n",
    "    ) # the number of losses\n",
    "# 승수, 패수 후처리\n",
    "n_win = n_win.strip().replace('.', '').replace('-', '')\n",
    "n_los = n_los.strip().replace('.', '').replace('-', '')\n",
    "print(n_win, n_los)\n",
    "n_win, n_los = int(n_win), int(n_los)\n",
    "# 승률, 승패차이, 현재시각\n",
    "win_rate = round(n_win / (n_win + n_los) * 100, 3)\n",
    "difference = n_win - n_los\n",
    "timestamp = DT.now().strftime('%Y_%m_%d_%H%M')\n",
    "# 로그파일 업데이트\n",
    "with open('log.csv', 'a', newline='') as csvfile:\n",
    "    writer = csv.writer(csvfile)\n",
    "    if (prev_n_win, prev_n_los) != (n_win, n_los):\n",
    "        writer.writerow([timestamp, win_rate, difference, n_win, n_los])\n",
    "\n",
    "print(\"win rate : \", win_rate, \"%\")\n",
    "print(\"difference :\", difference)\n",
    "# n_los"
   ]
  }
 ],
 "metadata": {
  "kernelspec": {
   "display_name": "env_general",
   "language": "python",
   "name": "env_general"
  },
  "language_info": {
   "codemirror_mode": {
    "name": "ipython",
    "version": 3
   },
   "file_extension": ".py",
   "mimetype": "text/x-python",
   "name": "python",
   "nbconvert_exporter": "python",
   "pygments_lexer": "ipython3",
   "version": "3.12.0"
  }
 },
 "nbformat": 4,
 "nbformat_minor": 2
}

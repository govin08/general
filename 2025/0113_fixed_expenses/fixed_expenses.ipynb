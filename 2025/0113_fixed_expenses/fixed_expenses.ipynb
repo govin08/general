{
 "cells": [
  {
   "cell_type": "code",
   "execution_count": 1,
   "metadata": {},
   "outputs": [
    {
     "data": {
      "text/plain": [
       "198744.16666666666"
      ]
     },
     "execution_count": 1,
     "metadata": {},
     "output_type": "execute_result"
    }
   ],
   "source": [
    "# 아파트관리비\n",
    "maintenance_fees = [\n",
    "    320510, 324600, 266300, 263690, 140550, 136150, # 2024년 1월 ~ 6월\n",
    "    130280, 129560, 145710, 140990, 157740, 228850] # 2024년 7월 ~ 12월\n",
    "sum(maintenance_fees) / len(maintenance_fees)"
   ]
  },
  {
   "cell_type": "code",
   "execution_count": 2,
   "metadata": {},
   "outputs": [
    {
     "data": {
      "text/plain": [
       "168798.33333333334"
      ]
     },
     "execution_count": 2,
     "metadata": {},
     "output_type": "execute_result"
    }
   ],
   "source": [
    "# 통신비\n",
    "KT_expenses = [\n",
    "    167970, 175370, 144020, 188370, 143030, 153360, # 2024년 1월 ~ 6월\n",
    "    175370, 184370, 154470, 132510, 219370, 37831+149539, # 2024년 7월 ~ 12월\n",
    "]\n",
    "sum(KT_expenses) / len(KT_expenses)"
   ]
  },
  {
   "cell_type": "code",
   "execution_count": 3,
   "metadata": {},
   "outputs": [
    {
     "name": "stdout",
     "output_type": "stream",
     "text": [
      "534580\n"
     ]
    }
   ],
   "source": [
    "import yaml\n",
    "\n",
    "with open('fixed_expenses.yaml', 'r', encoding='utf-8') as file:\n",
    "    data = yaml.safe_load(file)\n",
    "\n",
    "expenses = []\n",
    "for item in data:\n",
    "    expense = item['지출액평균']\n",
    "    expense = expense.replace('만','0000')\n",
    "    expense = expense.replace('원','')\n",
    "    expense = int(expense)\n",
    "    expenses.append(expense)\n",
    "fixed_expense = sum(expenses)\n",
    "print(fixed_expense)"
   ]
  }
 ],
 "metadata": {
  "kernelspec": {
   "display_name": "env_gen",
   "language": "python",
   "name": "python3"
  },
  "language_info": {
   "codemirror_mode": {
    "name": "ipython",
    "version": 3
   },
   "file_extension": ".py",
   "mimetype": "text/x-python",
   "name": "python",
   "nbconvert_exporter": "python",
   "pygments_lexer": "ipython3",
   "version": "3.13.0"
  }
 },
 "nbformat": 4,
 "nbformat_minor": 2
}

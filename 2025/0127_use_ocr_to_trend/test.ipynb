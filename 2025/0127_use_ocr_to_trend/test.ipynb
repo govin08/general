{
 "cells": [
  {
   "cell_type": "code",
   "execution_count": 25,
   "metadata": {},
   "outputs": [
    {
     "name": "stdout",
     "output_type": "stream",
     "text": [
      "Point(x=780, y=216)\n"
     ]
    }
   ],
   "source": [
    "import pyautogui\n",
    "print(pyautogui.position())"
   ]
  },
  {
   "cell_type": "code",
   "execution_count": 5,
   "metadata": {},
   "outputs": [],
   "source": [
    "lef = 1045\n",
    "top = 945\n",
    "rig = 1072\n",
    "bot = 973"
   ]
  },
  {
   "cell_type": "code",
   "execution_count": null,
   "metadata": {},
   "outputs": [],
   "source": [
    "# from PIL import ImageGrab\n",
    "# import pytesseract, schedule, csv, cv2, time\n",
    "# from datetime import datetime\n",
    "# import numpy as np\n",
    "\n",
    "# # # 위치 지정\n",
    "# # lef = 1045\n",
    "# # top = 947\n",
    "# # rig = 1072\n",
    "# # bot = 971\n",
    "\n",
    "# class ViewerCounter:\n",
    "#     def __init__(self, lef, top, rig, bot):\n",
    "#         self.lef = lef\n",
    "#         self.top = top\n",
    "#         self.rig = rig\n",
    "#         self.bot = bot\n",
    "\n",
    "#     # 숫자 판독 함수\n",
    "#     def read_digit(self, Display=False):\n",
    "#         try:\n",
    "#             capture = ImageGrab.grab(bbox=(self.lef, self.top, self.rig, self.bot)) # 이미지 캡쳐\n",
    "#             if Display: # 이미지 보이기\n",
    "#                 display(capture) \n",
    "#             img_np = np.array(capture) # 이미지를 numpy 배열로 변환\n",
    "#             gray = cv2.cvtColor(img_np, cv2.COLOR_BGR2GRAY) # 그레이스케일로 변환\n",
    "#             _, thresh = cv2.threshold(gray, 127, 255, cv2.THRESH_BINARY) # 이진화\n",
    "#             # OCR 시도\n",
    "#             viewers = pytesseract.image_to_string(\n",
    "#                 thresh,\n",
    "#                 config='--psm 7 -c tessedit_char_whitelist=0123456789'\n",
    "#             ).strip()\n",
    "#             viewers = int(viewers)  # 문자열을 정수로 변환 시도\n",
    "#             return viewers, \"success\"  # 성공 시 숫자와 상태 반환\n",
    "#         except (ValueError, pytesseract.TesseractError):\n",
    "#             return None, \"error\"  # 실패 시 None과 에러 상태 반환\n",
    "\n",
    "#     def add_row(self):\n",
    "#         viewers, status = self.read_digit()\n",
    "#         now = datetime.now()\n",
    "#         row = [\n",
    "#             now.strftime('%Y%m%d'),\n",
    "#             now.strftime('%H:%M:%S'),\n",
    "#             viewers,\n",
    "#             status\n",
    "#         ]\n",
    "#         with open('log.csv', 'a', newline='') as file:\n",
    "#             writer = csv.writer(file)\n",
    "#             writer.writerow(row)\n",
    "\n",
    "# # 인스턴스 생성\n",
    "# counter = ViewerCounter(1045, 947, 1072, 971)\n",
    "\n",
    "# # 스케줄 설정\n",
    "# schedule.every(1).minutes.do(counter.add_row)\n",
    "\n",
    "# # 실행\n",
    "# while True:\n",
    "#     schedule.run_pending()\n",
    "#     time.sleep(1)\n"
   ]
  },
  {
   "cell_type": "code",
   "execution_count": 92,
   "metadata": {},
   "outputs": [
    {
     "name": "stdout",
     "output_type": "stream",
     "text": [
      "데이터 기록 완료: 02:44:27 - 12명\n"
     ]
    }
   ],
   "source": [
    "from PIL import ImageGrab\n",
    "import pytesseract, schedule, csv, cv2, time\n",
    "from datetime import datetime\n",
    "import numpy as np\n",
    "from IPython.display import clear_output\n",
    "\n",
    "# 위치 지정\n",
    "lef = 1045\n",
    "top = 947\n",
    "rig = 1072\n",
    "bot = 971\n",
    "\n",
    "# 숫자 판독 함수\n",
    "def read_digit(lef, top, rig, bot, Display=False):\n",
    "    try:\n",
    "        capture = ImageGrab.grab(bbox=(lef, top, rig, bot))\n",
    "        if Display:\n",
    "            display(capture)\n",
    "        img_np = np.array(capture)\n",
    "        gray = cv2.cvtColor(img_np, cv2.COLOR_BGR2GRAY)\n",
    "        _, thresh = cv2.threshold(gray, 127, 255, cv2.THRESH_BINARY)\n",
    "        viewers = pytesseract.image_to_string(\n",
    "            thresh,\n",
    "            config='--psm 7 -c tessedit_char_whitelist=0123456789'\n",
    "        ).strip()\n",
    "        viewers = int(viewers)\n",
    "        return viewers, \"success\"\n",
    "    except (ValueError, pytesseract.TesseractError):\n",
    "        return None, \"error\"\n",
    "\n",
    "def add_row(lef, top, rig, bot):\n",
    "    viewers, status = read_digit(lef, top, rig, bot)\n",
    "    now = datetime.now()\n",
    "    row = [\n",
    "        now.strftime('%Y%m%d'),\n",
    "        now.strftime('%H:%M:%S'),\n",
    "        viewers,\n",
    "        status\n",
    "    ]\n",
    "    with open('log.csv', 'a', newline='') as file:\n",
    "        writer = csv.writer(file)\n",
    "        writer.writerow(row)\n",
    "    print(f\"데이터 기록 완료: {now.strftime('%H:%M:%S')} - {viewers}명\")\n",
    "    clear_output(wait=True)  # 출력 정리\n",
    "\n",
    "# 실행 횟수를 제한하는 방법\n",
    "max_iterations = 60  # 예: 60분 동안 실행\n",
    "iteration = 0\n",
    "\n",
    "while iteration < max_iterations:\n",
    "    add_row(lef, top, rig, bot)\n",
    "    time.sleep(60)  # 1분 대기\n",
    "    iteration += 1"
   ]
  },
  {
   "cell_type": "code",
   "execution_count": null,
   "metadata": {},
   "outputs": [],
   "source": [
    "from PIL import ImageGrab\n",
    "import pytesseract, schedule, csv, cv2, time\n",
    "from datetime import datetime\n",
    "import numpy as np\n",
    "\n",
    "# 위치 지정\n",
    "lef = 1045\n",
    "top = 947\n",
    "rig = 1072\n",
    "bot = 971\n",
    "\n",
    "# 숫자 판독 함수\n",
    "def read_digit(lef, top, rig, bot, Display=False):\n",
    "    try:\n",
    "        # 이미지 캡쳐\n",
    "        capture = ImageGrab.grab(bbox=(lef, top, rig, bot))\n",
    "        # 이미지 보이기\n",
    "        if Display:\n",
    "            display(capture)\n",
    "        img_np = np.array(capture) # 이미지를 numpy 배열로 변환\n",
    "        gray = cv2.cvtColor(img_np, cv2.COLOR_BGR2GRAY) # 그레이스케일로 변환\n",
    "        _, thresh = cv2.threshold(gray, 127, 255, cv2.THRESH_BINARY) # 이진화\n",
    "        # OCR 시도\n",
    "        viewers = pytesseract.image_to_string(\n",
    "            thresh,\n",
    "            config='--psm 7 -c tessedit_char_whitelist=0123456789'\n",
    "        ).strip()\n",
    "        viewers = int(viewers)  # 문자열을 정수로 변환 시도\n",
    "        return viewers, \"success\"  # 성공 시 숫자와 상태 반환\n",
    "    except (ValueError, pytesseract.TesseractError):\n",
    "        return None, \"error\"  # 실패 시 None과 에러 상태 반환\n",
    "\n",
    "def add_row(lef, top, rig, bot):\n",
    "    viewers, status = read_digit(lef, top, rig, bot)\n",
    "    now = datetime.now()\n",
    "    row = [\n",
    "        now.strftime('%Y%m%d'),\n",
    "        now.strftime('%H:%M:%S'),\n",
    "        viewers,\n",
    "        status\n",
    "    ]\n",
    "    with open('log.csv', 'a', newline='') as file:\n",
    "        writer = csv.writer(file)\n",
    "        writer.writerow(row)\n",
    "\n",
    "# add_row(lef, top, rig, bot)\n",
    "\n",
    "# 스케줄 설정\n",
    "schedule.every(1).minutes.do(add_row, lef, top, rig, bot)\n",
    "\n",
    "# 무한 루프로 스케줄 실행\n",
    "while True:\n",
    "    schedule.run_pending()\n",
    "    time.sleep(1)\n"
   ]
  },
  {
   "cell_type": "code",
   "execution_count": 83,
   "metadata": {},
   "outputs": [
    {
     "data": {
      "image/jpeg": "[encoded data removed]",
      "image/png": "[encoded data removed]",
      "text/plain": [
       "<PIL.Image.Image image mode=RGB size=27x28>"
      ]
     },
     "metadata": {},
     "output_type": "display_data"
    },
    {
     "ename": "ValueError",
     "evalue": "invalid literal for int() with base 10: ''",
     "output_type": "error",
     "traceback": [
      "\u001b[1;31m---------------------------------------------------------------------------\u001b[0m",
      "\u001b[1;31mValueError\u001b[0m                                Traceback (most recent call last)",
      "Cell \u001b[1;32mIn[83], line 20\u001b[0m\n\u001b[0;32m     15\u001b[0m     num \u001b[38;5;241m=\u001b[39m pytesseract\u001b[38;5;241m.\u001b[39mimage_to_string( \u001b[38;5;66;03m# the number of wins / losses\u001b[39;00m\n\u001b[0;32m     16\u001b[0m         capture,\n\u001b[0;32m     17\u001b[0m         config\u001b[38;5;241m=\u001b[39m\u001b[38;5;124m'\u001b[39m\u001b[38;5;124m--psm 7 -c tessedit_char_whitelist=0123456789\u001b[39m\u001b[38;5;124m'\u001b[39m  \u001b[38;5;66;03m# PSM 모드 추가\u001b[39;00m\n\u001b[0;32m     18\u001b[0m         )\u001b[38;5;241m.\u001b[39mstrip()\n\u001b[0;32m     19\u001b[0m     \u001b[38;5;28;01mreturn\u001b[39;00m \u001b[38;5;28mint\u001b[39m(num)\n\u001b[1;32m---> 20\u001b[0m \u001b[43mread_digit\u001b[49m\u001b[43m(\u001b[49m\u001b[43mlef\u001b[49m\u001b[43m,\u001b[49m\u001b[43m \u001b[49m\u001b[43mtop\u001b[49m\u001b[43m,\u001b[49m\u001b[43m \u001b[49m\u001b[43mrig\u001b[49m\u001b[43m,\u001b[49m\u001b[43m \u001b[49m\u001b[43mbot\u001b[49m\u001b[43m,\u001b[49m\u001b[43m \u001b[49m\u001b[43mDisplay\u001b[49m\u001b[38;5;241;43m=\u001b[39;49m\u001b[38;5;28;43;01mTrue\u001b[39;49;00m\u001b[43m)\u001b[49m\n",
      "Cell \u001b[1;32mIn[83], line 19\u001b[0m, in \u001b[0;36mread_digit\u001b[1;34m(lef, top, rig, bot, Display)\u001b[0m\n\u001b[0;32m     14\u001b[0m     display(capture)\n\u001b[0;32m     15\u001b[0m num \u001b[38;5;241m=\u001b[39m pytesseract\u001b[38;5;241m.\u001b[39mimage_to_string( \u001b[38;5;66;03m# the number of wins / losses\u001b[39;00m\n\u001b[0;32m     16\u001b[0m     capture,\n\u001b[0;32m     17\u001b[0m     config\u001b[38;5;241m=\u001b[39m\u001b[38;5;124m'\u001b[39m\u001b[38;5;124m--psm 7 -c tessedit_char_whitelist=0123456789\u001b[39m\u001b[38;5;124m'\u001b[39m  \u001b[38;5;66;03m# PSM 모드 추가\u001b[39;00m\n\u001b[0;32m     18\u001b[0m     )\u001b[38;5;241m.\u001b[39mstrip()\n\u001b[1;32m---> 19\u001b[0m \u001b[38;5;28;01mreturn\u001b[39;00m \u001b[38;5;28;43mint\u001b[39;49m\u001b[43m(\u001b[49m\u001b[43mnum\u001b[49m\u001b[43m)\u001b[49m\n",
      "\u001b[1;31mValueError\u001b[0m: invalid literal for int() with base 10: ''"
     ]
    }
   ],
   "source": [
    "from PIL import ImageGrab\n",
    "import pytesseract\n",
    "# 위치 지정\n",
    "lef = 1045\n",
    "top = 945\n",
    "rig = 1072\n",
    "bot = 973\n",
    "# 숫자 판독 함수\n",
    "def read_digit(lef, top, rig, bot, Display=False):\n",
    "    # 이미지 캡쳐\n",
    "    capture = ImageGrab.grab(bbox=(lef, top, rig, bot))\n",
    "    # 이미지 보이기\n",
    "    if Display:\n",
    "        display(capture)\n",
    "    num = pytesseract.image_to_string( # the number of wins / losses\n",
    "        capture,\n",
    "        config='--psm 7 -c tessedit_char_whitelist=0123456789'  # PSM 모드 추가\n",
    "        ).strip()\n",
    "    return int(num)\n",
    "read_digit(lef, top, rig, bot, Display=True)"
   ]
  }
 ],
 "metadata": {
  "kernelspec": {
   "display_name": "env_gen",
   "language": "python",
   "name": "python3"
  },
  "language_info": {
   "codemirror_mode": {
    "name": "ipython",
    "version": 3
   },
   "file_extension": ".py",
   "mimetype": "text/x-python",
   "name": "python",
   "nbconvert_exporter": "python",
   "pygments_lexer": "ipython3",
   "version": "3.13.0"
  }
 },
 "nbformat": 4,
 "nbformat_minor": 2
}

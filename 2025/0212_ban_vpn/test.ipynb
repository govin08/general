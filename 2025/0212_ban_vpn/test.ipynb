{
 "cells": [
  {
   "cell_type": "code",
   "execution_count": 1,
   "metadata": {},
   "outputs": [],
   "source": [
    "the_positions = {\n",
    "     # lef, top, rig, bot\n",
    "    2:[787, 378, 822, 388],\n",
    "    3:[787, 400, 822, 410],\n",
    "    4:[787, 435, 822, 445],\n",
    "    5:[787, 457, 822, 467],\n",
    "    6:[787, 479, 822, 489]\n",
    "    }"
   ]
  },
  {
   "cell_type": "code",
   "execution_count": 2,
   "metadata": {},
   "outputs": [
    {
     "data": {
      "text/plain": [
       "{2: [367, 378, 402, 388],\n",
       " 3: [367, 400, 402, 410],\n",
       " 4: [367, 435, 402, 445],\n",
       " 5: [367, 457, 402, 467],\n",
       " 6: [367, 479, 402, 489]}"
      ]
     },
     "execution_count": 2,
     "metadata": {},
     "output_type": "execute_result"
    }
   ],
   "source": [
    "var = -420\n",
    "for position in the_positions.values():\n",
    "    position[0] += var\n",
    "    position[2] += var\n",
    "the_positions"
   ]
  },
  {
   "cell_type": "code",
   "execution_count": null,
   "metadata": {},
   "outputs": [
    {
     "data": {
      "image/jpeg": "[encoded data removed]",
      "image/png": "[encoded data removed]",
      "text/plain": [
       "<PIL.Image.Image image mode=RGB size=35x10>"
      ]
     },
     "metadata": {},
     "output_type": "display_data"
    },
    {
     "data": {
      "image/jpeg": "[encoded data removed]",
      "image/png": "[encoded data removed]",
      "text/plain": [
       "<PIL.Image.Image image mode=RGB size=35x10>"
      ]
     },
     "metadata": {},
     "output_type": "display_data"
    },
    {
     "data": {
      "image/jpeg": "[encoded data removed]",
      "image/png": "[encoded data removed]",
      "text/plain": [
       "<PIL.Image.Image image mode=RGB size=35x10>"
      ]
     },
     "metadata": {},
     "output_type": "display_data"
    },
    {
     "data": {
      "image/jpeg": "[encoded data removed]",
      "image/png": "[encoded data removed]",
      "text/plain": [
       "<PIL.Image.Image image mode=RGB size=35x10>"
      ]
     },
     "metadata": {},
     "output_type": "display_data"
    },
    {
     "data": {
      "image/jpeg": "[encoded data removed]",
      "image/png": "[encoded data removed]",
      "text/plain": [
       "<PIL.Image.Image image mode=RGB size=35x10>"
      ]
     },
     "metadata": {},
     "output_type": "display_data"
    }
   ],
   "source": [
    "from PIL import ImageGrab\n",
    "from datetime import datetime as DT\n",
    "import cv2\n",
    "timestamp = DT.now().strftime('%m%d_%H%M')\n",
    "for num, pos in the_positions.items():\n",
    "    capture = ImageGrab.grab(bbox=tuple(pos))\n",
    "    filename = str(num) + '_' + timestamp\n",
    "    # capture.save(f'./captured_rects/{filename}.png')\n",
    "    print(filename)\n",
    "    display(capture)"
   ]
  }
 ],
 "metadata": {
  "kernelspec": {
   "display_name": "env_gen",
   "language": "python",
   "name": "python3"
  },
  "language_info": {
   "codemirror_mode": {
    "name": "ipython",
    "version": 3
   },
   "file_extension": ".py",
   "mimetype": "text/x-python",
   "name": "python",
   "nbconvert_exporter": "python",
   "pygments_lexer": "ipython3",
   "version": "3.12.0"
  }
 },
 "nbformat": 4,
 "nbformat_minor": 2
}

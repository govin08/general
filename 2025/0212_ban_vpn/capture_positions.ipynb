{
 "cells": [
  {
   "cell_type": "code",
   "execution_count": 12,
   "metadata": {},
   "outputs": [
    {
     "name": "stdout",
     "output_type": "stream",
     "text": [
      "Point(x=787, y=377)\n"
     ]
    }
   ],
   "source": [
    "# 2lt\n",
    "import pyautogui\n",
    "print(pyautogui.position())"
   ]
  },
  {
   "cell_type": "code",
   "execution_count": 13,
   "metadata": {},
   "outputs": [
    {
     "name": "stdout",
     "output_type": "stream",
     "text": [
      "Point(x=822, y=387)\n"
     ]
    }
   ],
   "source": [
    "# 2rb\n",
    "import pyautogui\n",
    "print(pyautogui.position())"
   ]
  },
  {
   "cell_type": "code",
   "execution_count": 14,
   "metadata": {},
   "outputs": [
    {
     "name": "stdout",
     "output_type": "stream",
     "text": [
      "Point(x=787, y=400)\n"
     ]
    }
   ],
   "source": [
    "# 3lt\n",
    "import pyautogui\n",
    "print(pyautogui.position())"
   ]
  },
  {
   "cell_type": "code",
   "execution_count": 15,
   "metadata": {},
   "outputs": [
    {
     "name": "stdout",
     "output_type": "stream",
     "text": [
      "Point(x=822, y=410)\n"
     ]
    }
   ],
   "source": [
    "# 3rb\n",
    "import pyautogui\n",
    "print(pyautogui.position())"
   ]
  },
  {
   "cell_type": "code",
   "execution_count": 8,
   "metadata": {},
   "outputs": [
    {
     "name": "stdout",
     "output_type": "stream",
     "text": [
      "Point(x=784, y=435)\n"
     ]
    }
   ],
   "source": [
    "# 4lt\n",
    "import pyautogui\n",
    "print(pyautogui.position())"
   ]
  },
  {
   "cell_type": "code",
   "execution_count": 9,
   "metadata": {},
   "outputs": [
    {
     "name": "stdout",
     "output_type": "stream",
     "text": [
      "Point(x=822, y=443)\n"
     ]
    }
   ],
   "source": [
    "# 4rb\n",
    "import pyautogui\n",
    "print(pyautogui.position())"
   ]
  },
  {
   "cell_type": "code",
   "execution_count": 16,
   "metadata": {},
   "outputs": [
    {
     "name": "stdout",
     "output_type": "stream",
     "text": [
      "Point(x=786, y=457)\n"
     ]
    }
   ],
   "source": [
    "# 5lt\n",
    "import pyautogui\n",
    "print(pyautogui.position())"
   ]
  },
  {
   "cell_type": "code",
   "execution_count": 17,
   "metadata": {},
   "outputs": [
    {
     "name": "stdout",
     "output_type": "stream",
     "text": [
      "Point(x=824, y=467)\n"
     ]
    }
   ],
   "source": [
    "# 5rb\n",
    "import pyautogui\n",
    "print(pyautogui.position())"
   ]
  },
  {
   "cell_type": "code",
   "execution_count": 18,
   "metadata": {},
   "outputs": [
    {
     "name": "stdout",
     "output_type": "stream",
     "text": [
      "Point(x=787, y=479)\n"
     ]
    }
   ],
   "source": [
    "# 6rb\n",
    "import pyautogui\n",
    "print(pyautogui.position())"
   ]
  },
  {
   "cell_type": "code",
   "execution_count": 19,
   "metadata": {},
   "outputs": [
    {
     "name": "stdout",
     "output_type": "stream",
     "text": [
      "Point(x=825, y=491)\n"
     ]
    }
   ],
   "source": [
    "# 6rb\n",
    "import pyautogui\n",
    "print(pyautogui.position())"
   ]
  },
  {
   "cell_type": "code",
   "execution_count": null,
   "metadata": {},
   "outputs": [],
   "source": [
    "captured_positions = {\n",
    "     # lef, top, rig, bot\n",
    "    2:[787, 377, 822, 387],\n",
    "    3:[787, 400, 822, 410],\n",
    "    4:[784, 435, 822, 443],\n",
    "    5:[786, 457, 824, 467],\n",
    "    6:[787, 479, 825, 491]\n",
    "    }"
   ]
  },
  {
   "cell_type": "code",
   "execution_count": null,
   "metadata": {},
   "outputs": [],
   "source": [
    "the_positions = {\n",
    "     # lef, top, rig, bot\n",
    "    2:[787, 378, 822, 388],\n",
    "    3:[787, 400, 822, 410],\n",
    "    4:[787, 435, 822, 445],\n",
    "    5:[787, 457, 822, 467],\n",
    "    6:[787, 479, 822, 489]\n",
    "    }"
   ]
  }
 ],
 "metadata": {
  "kernelspec": {
   "display_name": "env_gen",
   "language": "python",
   "name": "python3"
  },
  "language_info": {
   "codemirror_mode": {
    "name": "ipython",
    "version": 3
   },
   "file_extension": ".py",
   "mimetype": "text/x-python",
   "name": "python",
   "nbconvert_exporter": "python",
   "pygments_lexer": "ipython3",
   "version": "3.12.0"
  }
 },
 "nbformat": 4,
 "nbformat_minor": 2
}

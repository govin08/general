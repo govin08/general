{
 "cells": [
  {
   "cell_type": "code",
   "execution_count": 6,
   "metadata": {},
   "outputs": [],
   "source": [
    "with open('archive/vegeterian_1206.txt', 'r', encoding='utf-8') as infile:\n",
    "    lines = infile.readlines()\n",
    "with open('vegeterian.txt', 'w', encoding='utf-8') as outfile:\n",
    "    for index, line in enumerate(lines):\n",
    "        if line.startswith('+'):\n",
    "            pass\n",
    "        elif line.startswith('-'):\n",
    "            pass\n",
    "        elif line.strip() in ['채식주의자', '몽고반점', '나무 불꽃']:\n",
    "            pass\n",
    "        elif line == '\\n':\n",
    "            pass\n",
    "        else:\n",
    "            line = '* ' + line\n",
    "        outfile.write(line)"
   ]
  }
 ],
 "metadata": {
  "kernelspec": {
   "display_name": "env_gen",
   "language": "python",
   "name": "python3"
  },
  "language_info": {
   "codemirror_mode": {
    "name": "ipython",
    "version": 3
   },
   "file_extension": ".py",
   "mimetype": "text/x-python",
   "name": "python",
   "nbconvert_exporter": "python",
   "pygments_lexer": "ipython3",
   "version": "3.13.0"
  }
 },
 "nbformat": 4,
 "nbformat_minor": 2
}

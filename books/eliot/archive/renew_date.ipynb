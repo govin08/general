{
 "cells": [
  {
   "cell_type": "code",
   "execution_count": null,
   "metadata": {},
   "outputs": [],
   "source": [
    "import yaml\n",
    "from datetime import datetime\n",
    "\n",
    "# YAML 파일 불러오기\n",
    "with open('silas_marner.yaml', 'r', encoding='utf-8') as file:\n",
    "    data = list(yaml.safe_load_all(file))  # 여러 문서 처리\n",
    "\n",
    "# 첫 번째 문서 (메타데이터)\n",
    "preamble = data[0]\n",
    "\n",
    "# 두 번째 문서 (본문 내용)\n",
    "content = data[1]\n",
    "\n",
    "# updated_at을 오늘 날짜로 업데이트\n",
    "preamble['updated_at'] = datetime.today().strftime('%Y-%m-%d')\n",
    "\n",
    "# 수정된 데이터를 YAML 파일에 다시 저장\n",
    "with open('silas_marner.yaml', 'w', encoding='utf-8') as file:\n",
    "    # 첫 번째 문서와 두 번째 문서를 각각 덤프하여 다시 저장\n",
    "    yaml.dump(preamble, file, allow_unicode=True, default_flow_style=False, sort_keys=False)\n",
    "    file.write(\"\\n---\\n\")  # 두 문서 사이에 구분선 추가\n",
    "    yaml.dump(content, file, allow_unicode=True, default_flow_style=False, sort_keys=False)\n"
   ]
  }
 ],
 "metadata": {
  "kernelspec": {
   "display_name": "env_gen",
   "language": "python",
   "name": "python3"
  },
  "language_info": {
   "codemirror_mode": {
    "name": "ipython",
    "version": 3
   },
   "file_extension": ".py",
   "mimetype": "text/x-python",
   "name": "python",
   "nbconvert_exporter": "python",
   "pygments_lexer": "ipython3",
   "version": "3.13.0"
  }
 },
 "nbformat": 4,
 "nbformat_minor": 2
}

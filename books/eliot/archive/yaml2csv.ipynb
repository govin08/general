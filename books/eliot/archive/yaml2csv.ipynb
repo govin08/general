{
 "cells": [
  {
   "cell_type": "code",
   "execution_count": 1,
   "metadata": {},
   "outputs": [],
   "source": [
    "import yaml\n",
    "import pandas as pd"
   ]
  },
  {
   "cell_type": "code",
   "execution_count": 2,
   "metadata": {},
   "outputs": [],
   "source": [
    "# YAML 파일 불러오기\n",
    "with open('silas_marner.yaml', 'r', encoding='utf-8') as file:\n",
    "    data = list(yaml.safe_load_all(file))  # 여러 문서 처리\n",
    "\n",
    "preamble = data[0] # 첫 번째 문서 (메타데이터)\n",
    "content = data[1] # 두 번째 문서 (본문 내용)"
   ]
  },
  {
   "cell_type": "code",
   "execution_count": 3,
   "metadata": {},
   "outputs": [],
   "source": [
    "voca = []\n",
    "\n",
    "chapter1 = content[0]\n",
    "page_infos = chapter1['pages']\n",
    "for page_info in page_infos:\n",
    "    page = page_info['page']\n",
    "    word_infos = page_info['words']\n",
    "    for word_info in word_infos:\n",
    "        word_info['page'] = page\n",
    "        voca.append(word_info)\n",
    "voca = pd.DataFrame(voca)\n",
    "voca.to_csv('vocabulary.csv', encoding='utf-8-sig', index=False)\n",
    "voca.sort_values(by='word').to_csv('vocabulary_sorted.csv', encoding='utf-8-sig', index=False)"
   ]
  },
  {
   "cell_type": "code",
   "execution_count": 6,
   "metadata": {},
   "outputs": [
    {
     "name": "stdout",
     "output_type": "stream",
     "text": [
      "5\n",
      "[{'word': 'spinning-wheel', 'mean': '물레'}, {'word': 'hum', 'mean': '콧노래를 부르다. 윙윙거리다'}, {'word': 'bosom', 'mean': '(여자의) 가슴'}, {'word': 'pallid', 'mean': '창백한, 핼쑥한'}, {'word': 'undersized', 'mean': '보통보다 작은'}, {'word': 'brawny', 'mean': '건장한', 'synonym': 'burly'}, {'word': 'country folk', 'mean': '시골사람들'}, {'word': 'remnant', 'mean': '남은 부분, 나머지, 자투리'}, {'word': 'upland', 'mean': '고지대'}, {'word': 'flaxen', 'mean': '금발의', 'synonym': 'blonde'}, {'word': 'cling round', 'mean': '딱 붙어있다. 주위에 흐르다', 'dict_info': '예문'}, {'word': 'unwonted', 'mean': '평소와는 다른, 특이한, 뜻밖의'}, {'word': 'intermittent', 'mean': '간헐적인, 간간히 일어나는', 'synonym': 'sporadic'}, {'word': 'pedlar', 'mean': '행상인, 도붓장수', 'synonym': 'peddler'}, {'word': 'shallow', 'mean': '(복수) 얕은 곳, 여울', 'class': '명사'}, {'word': 'handicraft', 'mean': '수공예, 수공예품'}, {'word': 'overwise', 'mean': '남달리 현명한'}]\n",
      "6\n",
      "[{'word': 'dexterity', 'mean': '(손이나 머리를 쓰는) 재주, 재치, 교묘함, 빈틈없음, 손재주', 'dict_info': '옥스포드, 동아출판, YBM'}, {'word': 'partake', 'mean': '(자기에게 제공된 것을) 먹다, 참가하다'}, {'word': 'conjouring', 'mean': '마술'}, {'word': 'rustic', 'mean': '시골 특유의, 소박한, 무례한, 조야한, 전원생활의', 'dict_info': '옥스포드, 동아출판, YBM'}, {'word': 'contract', 'mean': '줄이다, (버릇이) 들다, (자연히) ~의 습관이 붙다', 'dict_info': '옥스포드, 동아출판, YBM'}, {'word': 'hedgegrow', 'mean': '산울타리, (산울타리의) 죽 늘어선 관목', 'dict_info': '동아출판'}, {'word': 'stone-pit', 'mean': '채석장', 'synonym': 'quarry, guary'}, {'word': 'loom', 'mean': '베틀, 직기'}, {'word': 'trotting', 'mean': '속보, 빨리 걷기'}, {'word': 'winnow', 'mean': '(낱알, 겨 등을) 까부르다, 키질하다, (좋은 부분을) 골라내다, 뽑아내다', 'dict_info': '동아출판'}, {'word': 'flail', 'mean': '도리깨', 'class': '명사'}, {'word': 'counterbalance', 'mean': '(반대되는 힘으로) 균형을 잡아주다'}, {'word': 'scornful', 'mean': '경멸하는'}, {'word': 'mockery', 'mean': '조롱, 조소'}, {'word': 'tread-mill', 'mean': '밟아 돌리는 바퀴, 단조롭고 피곤한 일', 'dict_info': 'YBM'}, {'word': 'scoundrel', 'mean': '악당'}, {'word': 'chary of', 'mean': '~을 (하기를) 꺼리는, 조심스러운, 신중한, 나서지 않는, 음전한, 부끄러워하는, 내성적인, 아까워하는, 삼가는, 저어하는', 'synonym': 'wary'}, {'word': 'protuberant', 'mean': '융기된, 볼록하게 도드라진, 돌출한, 현저한, 뚜렷한', 'dict_info': '옥스퍼드, 동아출판'}, {'word': 'dart', 'mean': '(~에게) 휙 눈길을 던지다, 흘깃 쳐다보다'}, {'word': 'cramp', 'mean': '경련'}, {'word': 'rickets', 'mean': '구루병, 곱사등, 골연화(증)', 'dict_info': '교학사'}, {'word': 'wry', 'mean': '(얼굴, 표정 등이) (일시적으로) 찡그린, 비틀어진, 뒤틀린', 'dict_info': '동아출판'}, {'word': 'benignity', 'mean': '인자, 상냥스러움, 온화'}, {'word': 'toil', 'mean': '노동'}]\n",
      "7\n",
      "[{'word': 'mishap', 'mean': '작은 사고 (불행)'}, {'word': 'barren', 'mean': '척박한, 황량한'}, {'word': 'pasture', 'mean': '초원, 목초지, 환경'}, {'word': 'fancy', 'mean': '원하다, ~ 하고싶다.'}, {'word': 'victual', 'mean': '먹을 것, 식품'}, {'word': 'phantasm', 'mean': '환영, 허깨비, 유령'}, {'word': 'parish', 'mean': '(교회, 성당의) 교구'}, {'word': 'outskirt', 'mean': '변두리, 교외'}, {'word': 'meagre', 'mean': '(양, 질이) 빈약한 (변변찮은)', 'synonym': 'meager'}, {'word': 'nestle', 'mean': '따뜻이 앉다(눕다)'}, {'word': 'snug', 'mean': '포근한, 아늑한', 'synonym': 'cosy'}, {'word': 'horseback', 'mean': '말을 타고 하는'}, {'word': 'turnpike', 'mean': '유료도로, 유료고속도로'}, {'word': 'coach-horn', 'mean': '(역마차의) 나팔'}, {'word': 'homestead', 'mean': '집과 대지, 선조 대대의 집, (특히 부속 건물, 농장이 있는) 농장'}, {'word': 'orchard', 'mean': '과수원'}, {'word': 'ornamental', 'mean': '장식용의'}, {'word': 'weathercock', 'mean': '(수탉 모양의) 풍향계'}, {'word': 'imposing', 'mean': '인상적인, 눈길을 끄는'}, {'word': 'rectory', 'mean': '교구 목사관'}, {'word': 'practised', 'mean': '(연습을 많이 하여) 노련한(능숙한)', 'synonym': 'practiced'}, {'word': 'manor-house', 'mean': '장원 영주의 저택'}, {'word': 'vicinity', 'mean': '부근'}, {'word': 'rollicking', 'mean': '신나는, 흥겨운, 쾌활한', 'synonym': 'exuberant'}, {'word': 'jolly', 'mean': '행복한, 쾌활한, 즐거운'}, {'word': 'Whitsun', 'mean': '성령강림절', 'synonym': 'Whitsunday'}, {'word': 'Easter tide', 'mean': '부활절 계절, 부활절로부터 시작되는 일주일'}, {'word': 'short-sighted', 'mean': '근시안의'}, {'word': 'door-sill', 'mean': '문지방', 'synonym': 'threshold'}]\n",
      "8\n",
      "[{'word': 'pint', 'mean': '파인트'}, {'word': 'wheelwright', 'mean': '(특히 나무로 된) 수레바퀴 제조인(목수)'}, {'word': 'lass', 'mean': '(스코틀랜드 영어, 북잉글랜드 영어) 아가씨, 처녀'}, {'word': 'unexampled', 'mean': '전례가 없는, 비할 데 없는, 둘도 없는'}, {'word': 'molecatcher', 'mean': 'A person who traps and kills moles', 'dict_info': 'wiktionary', 'explanation': 'mole은 두더지를 뜻함'}, {'word': 'aver', 'mean': '(사실이라고) 단언하다(주장하다)', 'synonym': 'assert, declare'}, {'word': 'stile', 'mean': '층계형 출입구 (들판의 울타리, 문 등을 타고 오르내릴 수 있도록 만든 것)'}, {'word': 'limb', 'mean': '팔다리, 사지', 'dict_info': '동아출판'}, {'word': 'clutch', 'mean': '(꽉) 움켜잡다', 'synonym': 'grip'}, {'word': 'saw-pit', 'mean': '톱질 구덩이'}, {'word': 'argumentative', 'mean': '따지기 좋아하는, 시비를 거는'}, {'word': 'shaft', 'mean': '수갱, 통로, 손잡이, 자루'}, {'word': 'parson', 'mean': '(영국 국교회의) 교구 주임 목사(사제)'}]\n",
      "9\n",
      "[{'word': 'mischief', 'mean': '(특히 아이들이 하는 크게 심각하지 않은) 나쁜 짓(장난)'}, {'word': 'persecution', 'mean': '박해, 학대, 졸라댐, 괴롭힘', 'dict_info': '옥스퍼드, 동아출판'}, {'word': 'provident', 'mean': '(특히 돈을 저축하면서) 장래를 준비하는(앞날에 대비하는)'}, {'word': 'cottager', 'mean': '(특히 과거에 시골) 오두막에 사는 사람'}, {'word': 'yarn', 'mean': '(작물, 편물용) 실, 방적사'}, {'word': 'counteract', 'mean': '(무엇의 악영향에) 대응하다'}, {'word': 'repugnance', 'mean': '(강한) 반감(혐오감)'}, {'word': 'metamorphosis', 'mean': '탈바꿈, 변형, 변태', 'synonym': 'transformation'}, {'word': 'fervid', 'mean': '열렬한'}, {'word': 'artisan', 'mean': '장인, 기능보유자', 'synonym': 'craftman'}, {'word': 'sect', 'mean': '(종교의) 분파, 교파, 종파'}, {'word': 'exemplary', 'mean': '모범적인, 본이 되는 훌륭한', 'dict_info': '옥스퍼드, 동아출판'}, {'word': 'minister', 'mean': '성직자, 목사', 'synonym': 'pastor, priest, vicar'}]\n",
      "10\n",
      "[{'word': 'wilful', 'mean': '고의적인, 의도적인, 고집이 센', 'synonym': 'willful'}, {'word': 'trance', 'mean': '황홀, 열중, 무아지경, 실신, 혼수(최면) 상태'}, {'word': 'fervour', 'mean': '열정', 'synonym': 'fervor'}, {'word': 'resurgent', 'mean': '되살아나는, 부활하는, 재기하는', 'dict_info': '옥스퍼드, 동아출판, YBM'}, {'word': 'fervent', 'mean': '열렬한, 강렬한'}, {'word': 'impart', 'mean': '(정보, 시직 등을) 전하다, (특정한 특성을) 주다', 'synonym': 'convey, lend'}, {'word': 'bequest', 'mean': '유증(재산), 유산'}, {'word': 'foxglove', 'mean': '(식물) 디기탈리스(digitalis)'}, {'word': 'dandelion', 'mean': '민들레'}, {'word': 'coltsfoot', 'mean': '머위, 관동'}, {'word': 'brethren', 'mean': '(종교 단체의) 신도들, (남자) 교우들'}, {'word': 'serenity', 'mean': '(마음, 생활의) 평온, 평정, 침착', 'dict_info': '동아출판'}, {'word': 'be dazzled by', 'mean': '~에 현혹되다', 'dict_info': '예문'}, {'word': 'blemish', 'mean': '흠집을 내다'}, {'word': 'discern', 'mean': '(특히 분명하지 않은 것을) 알아차리다(파악하다/포착하다)'}, {'word': 'impressible', 'mean': '다감한, 감수성이 풍부한(예민한)'}, {'word': 'imperativeness', 'mean': '명령적임, 단호함, 부득이함'}, {'word': 'complacent', 'mean': '(보통 부정적 의미로) 마음에 흡족한, 무관심한, 개의치 않는, (자기의 우월성에) 만족해하는, 자기만족의, 흐뭇해보이는', 'dict_info': 'YBM'}]\n",
      "11\n",
      "[{'word': 'mingle', 'mean': '섞이다, 어우러지다, 섞다, 어우르다'}, {'word': 'conversion', 'mean': '개종, 전향, 전환'}, {'word': 'colloquy', 'mean': '대화'}, {'word': 'cataleptic', 'mean': '강직증의, 강경증의', 'dict_info': '동아출판, YBM'}, {'word': 'amidst', 'mean': '(특히 흥분, 공포심이 느껴지는) 가운데에, ~으로 에워싸인', 'synonym': 'amid'}, {'word': 'jar', 'mean': '보기싫게 부조화를 이루다, (의견 따위가) 삐걱거리다, 맞지 않다, 말다툼하다(with)', 'dict_info': '옥스포드, YBM'}, {'word': 'exhort', 'mean': '열심히 권하다, 촉구하다, 간곡히 타이르다, 권하다, 훈계(권고)하다'}, {'word': 'accursed', 'mean': '저주받은'}, {'word': 'rebuke', 'mean': '비난, 힐책, 책망, 질책, 징계', 'dict_info': '동아출판, YBM'}, {'word': 'admonition', 'mean': '책망, 경고'}, {'word': 'sanction', 'mean': '허가(승인, 인가)하다'}, {'word': 'deacon', 'mean': '부제, 집사, 조합장', 'dict_info': '옥스퍼드, 동아출판, YBM'}, {'word': 'widower', 'mean': '홀아비'}, {'word': 'tend', 'mean': '돌보다, 보살피다'}]\n",
      "12\n",
      "[{'word': 'vestry', 'mean': '교회부속실(사무실, 기도실, 주일학교 교실용), 예배실', 'dict_info': '동아출판, YBM'}, {'word': 'interrogation', 'mean': '심문'}, {'word': 'repent', 'mean': '뉘우치다, 회개하다'}]\n",
      "13\n",
      "[{'word': 'tuck', 'mean': '밀어넣다'}, {'word': 'impetuous', 'mean': '성급한, 충동적인'}, {'word': 'feebly', 'mean': '약하게, 희미하게, 힘없이'}, {'word': 'sore', 'mean': '몹시, 격렬하게, 심하게', 'dict_info': '동아출판, YBM', 'class': '부사'}, {'word': 'stricken', 'mean': '상처받은, 부상당한, 시달린', 'dict_info': '동아출판, YBM'}, {'word': 'deliberation', 'mean': '숙고, 신중함'}, {'word': 'resort', 'mean': '의지, 호소', 'dict_info': '옥스포드, 동아출판, YBM'}, {'word': 'culprit', 'mean': '범인'}, {'word': 'draw lots', 'mean': '제비뽑기를 하다', 'dict_info': '숙어'}, {'word': 'bruise', 'mean': '멍(흠)이 생기다'}, {'word': 'agitation', 'mean': '불안, 동요'}]\n",
      "14\n",
      "[{'word': 'shudder', 'mean': '몸이 떨림, 전율, 몸서리, 크게 흔들림'}, {'word': 'blasphemy', 'mean': '신성모독'}, {'word': 'meek', 'mean': '온순한, 온화한'}, {'word': 'sever', 'mean': '잘라내다, 끊다, 절단하다'}, {'word': 'culpable', 'mean': '과실이 있는, 비난받을 만한'}, {'word': 'take refuge', 'mean': '대피하다'}, {'word': 'benumbing', 'mean': '무감각한'}, {'word': 'at an end', 'mean': '(일 따위가) 끝나서, (인내가) 다하여'}, {'word': None, 'mean': None}, {'word': None, 'mean': None}, {'word': None, 'mean': None}, {'word': None, 'mean': None}, {'word': None, 'mean': None}, {'word': None, 'mean': None}, {'word': None, 'mean': None}, {'word': None, 'mean': None}, {'word': None, 'mean': None}, {'word': None, 'mean': None}]\n"
     ]
    }
   ],
   "source": [
    "chapter1 = content[0]\n",
    "page_infos = chapter1['pages']\n",
    "for page_info in page_infos:\n",
    "    page = page_info['page']\n",
    "    word_infos = page_info['words']\n",
    "    print(page)\n",
    "    print(word_infos)"
   ]
  },
  {
   "cell_type": "code",
   "execution_count": null,
   "metadata": {},
   "outputs": [],
   "source": [
    "# with open(\"output.txt\", \"w\", encoding=\"utf-8\") as file:\n",
    "#     for page_info in page_infos:\n",
    "#         page = page_info['page']\n",
    "#         word_infos = page_info['words']\n",
    "        \n",
    "#         file.write(f\"{page}\\n\")  # 페이지 번호 기록\n",
    "#         for word_info in word_infos:\n",
    "#             word = word_info['word']\n",
    "#             mean = word_info['mean']\n",
    "#             file.write(f\"{word} {mean}\\n\")  # 단어와 뜻 기록\n",
    "#         file.write(\"\\n\")  # 각 페이지 사이에 빈 줄 추가"
   ]
  },
  {
   "cell_type": "markdown",
   "metadata": {},
   "source": [
    "<!-- 5\n",
    "spinning-wheel 물레\n",
    "hum 콧노래를 부르다. 윙윙거리다\n",
    "bosom (여자의) 가슴\n",
    "pallid 창백한, 핼쑥한\n",
    "...\n",
    "overwise 남달리 현명한\n",
    "6\n",
    "dexterity (손이나 머리를 쓰는) 재주, 재치, 교묘함, 빈틈없음, 손재주\n",
    "partake (자기에게 제공된 것을) 먹다, 참가하다\n",
    "... -->"
   ]
  }
 ],
 "metadata": {
  "kernelspec": {
   "display_name": "env_gen",
   "language": "python",
   "name": "python3"
  },
  "language_info": {
   "codemirror_mode": {
    "name": "ipython",
    "version": 3
   },
   "file_extension": ".py",
   "mimetype": "text/x-python",
   "name": "python",
   "nbconvert_exporter": "python",
   "pygments_lexer": "ipython3",
   "version": "3.13.0"
  }
 },
 "nbformat": 4,
 "nbformat_minor": 2
}

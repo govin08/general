{
 "cells": [
  {
   "cell_type": "code",
   "execution_count": 1,
   "metadata": {},
   "outputs": [],
   "source": [
    "import yaml\n",
    "import pandas as pd"
   ]
  },
  {
   "cell_type": "code",
   "execution_count": 2,
   "metadata": {},
   "outputs": [],
   "source": [
    "# YAML 파일 불러오기\n",
    "with open('silas_marner.yaml', 'r', encoding='utf-8') as file:\n",
    "    data = list(yaml.safe_load_all(file))  # 여러 문서 처리\n",
    "\n",
    "preamble = data[0] # 첫 번째 문서 (메타데이터)\n",
    "content = data[1] # 두 번째 문서 (본문 내용)"
   ]
  },
  {
   "cell_type": "code",
   "execution_count": 3,
   "metadata": {},
   "outputs": [],
   "source": [
    "voca = []\n",
    "\n",
    "chapter1 = content[0]\n",
    "page_infos = chapter1['pages']\n",
    "for page_info in page_infos:\n",
    "    page = page_info['page']\n",
    "    word_infos = page_info['words']\n",
    "    for word_info in word_infos:\n",
    "        word_info['page'] = page\n",
    "        voca.append(word_info)\n",
    "voca = pd.DataFrame(voca)\n",
    "voca.to_csv('vocabulary.csv', encoding='utf-8-sig', index=False)\n",
    "voca.sort_values(by='word').to_csv('vocabulary_sorted.csv', encoding='utf-8-sig', index=False)"
   ]
  }
 ],
 "metadata": {
  "kernelspec": {
   "display_name": "env_gen",
   "language": "python",
   "name": "python3"
  },
  "language_info": {
   "codemirror_mode": {
    "name": "ipython",
    "version": 3
   },
   "file_extension": ".py",
   "mimetype": "text/x-python",
   "name": "python",
   "nbconvert_exporter": "python",
   "pygments_lexer": "ipython3",
   "version": "3.13.0"
  }
 },
 "nbformat": 4,
 "nbformat_minor": 2
}
